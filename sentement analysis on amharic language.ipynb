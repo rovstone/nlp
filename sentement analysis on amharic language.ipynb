{
  "cells": [
    {
      "cell_type": "code",
      "execution_count": null,
      "metadata": {
        "id": "AELR3vr3EXu0"
      },
      "outputs": [],
      "source": []
    },
    {
      "cell_type": "code",
      "execution_count": null,
      "metadata": {
        "id": "ZCcJX-WHc_zq"
      },
      "outputs": [],
      "source": [
        "\n",
        "!pip install \"tensorflow-text>=2.10\"\n",
        "!pip install einops"
      ]
    },
    {
      "cell_type": "code",
      "execution_count": null,
      "metadata": {
        "id": "Qp3MSYSwdGr3"
      },
      "outputs": [],
      "source": [
        "import numpy as np\n",
        "\n",
        "import typing\n",
        "from typing import Any, Tuple\n",
        "\n",
        "import einops\n",
        "import matplotlib.pyplot as plt\n",
        "import matplotlib.ticker as ticker\n",
        "\n",
        "import tensorflow as tf\n",
        "import tensorflow_text as tf_text"
      ]
    },
    {
      "cell_type": "code",
      "execution_count": null,
      "metadata": {
        "id": "rD3lc0pwdPZy"
      },
      "outputs": [],
      "source": [
        "class ShapeChecker():\n",
        "  def __init__(self):\n",
        "    # Keep a cache of every axis-name seen\n",
        "    self.shapes = {}\n",
        "\n",
        "  def __call__(self, tensor, names, broadcast=False):\n",
        "    if not tf.executing_eagerly():\n",
        "      return\n",
        "\n",
        "    parsed = einops.parse_shape(tensor, names)\n",
        "\n",
        "    for name, new_dim in parsed.items():\n",
        "      old_dim = self.shapes.get(name, None)\n",
        "      \n",
        "      if (broadcast and new_dim == 1):\n",
        "        continue\n",
        "\n",
        "      if old_dim is None:\n",
        "        # If the axis name is new, add its length to the cache.\n",
        "        self.shapes[name] = new_dim\n",
        "        continue\n",
        "\n",
        "      if new_dim != old_dim:\n",
        "        raise ValueError(f\"Shape mismatch for dimension: '{name}'\\n\"\n",
        "                         f\"    found: {new_dim}\\n\"\n",
        "                         f\"    expected: {old_dim}\\n\")"
      ]
    },
    {
      "cell_type": "code",
      "execution_count": null,
      "metadata": {
        "colab": {
          "base_uri": "https://localhost:8080/"
        },
        "id": "M7fUIAwudkK9",
        "outputId": "82513aa1-1b47-4650-e3a2-571f73597dd8"
      },
      "outputs": [
        {
          "name": "stdout",
          "output_type": "stream",
          "text": [
            "Mounted at /content/drive/\n",
            "/content/drive/MyDrive/ret\n"
          ]
        }
      ],
      "source": [
        "# Download the file\n",
        "import pathlib\n",
        "from google.colab import drive\n",
        "drive.mount('/content/drive/', force_remount=True)\n",
        "%cd /content/drive/MyDrive/data/ret\n",
        "path_to_file = \"merg.txt\""
      ]
    },
    {
      "cell_type": "code",
      "execution_count": null,
      "metadata": {
        "id": "OO1566jcesD2"
      },
      "outputs": [],
      "source": [
        "def data_loader(f_name):\n",
        "    target = []\n",
        "    context = []\n",
        "    with open(f_name, 'r', encoding='utf-8') as f:\n",
        "        for line in f:\n",
        "            trg, cnt = line.strip().split('#')\n",
        "            target.append(trg)\n",
        "            context.append(cnt)\n",
        "    return np.array(target), np.array(context)"
      ]
    },
    {
      "cell_type": "code",
      "execution_count": null,
      "metadata": {
        "colab": {
          "base_uri": "https://localhost:8080/"
        },
        "id": "OeBu2Y_EevzC",
        "outputId": "db830317-381d-4ad6-a92f-94b068828a09"
      },
      "outputs": [
        {
          "name": "stdout",
          "output_type": "stream",
          "text": [
            "Length of the dataset:  2030\n",
            "Sample sentece on line 800: Reformist candidate Mohammad-Ali Najafi is unanimously elected Mayor of Tehran by the city council, ending the 12-year tenure of Principlist Mohammad-Bagher Ghalibaf.\n",
            "Sample transcription on line 800: Xumuramuu bara hojii wagga 12 ''Seera-jabeessaa' Muhaammad Baghii Galibaaf ilaalchisuun Kaadhimamaan abbaa ilaalcha haaromsaa Mohammad Ali Najaafiin kantiibaa Tehraan haaraa ta'uun mana maree magaalichaatiin sagalee guutudhaan muudaman.\n"
          ]
        }
      ],
      "source": [
        "context_raw, target_raw = data_loader(path_to_file)\n",
        "print(\"Length of the dataset: \", len(context_raw))\n",
        "print(\"Sample sentece on line 800:\", context_raw[800])\n",
        "print(\"Sample transcription on line 800:\", target_raw[800])\n"
      ]
    },
    {
      "cell_type": "code",
      "execution_count": null,
      "metadata": {
        "id": "HrbQlu_ufHrr"
      },
      "outputs": [],
      "source": [
        "BUFFER_SIZE = len(context_raw)\n",
        "BATCH_SIZE = 64\n",
        "\n",
        "is_train = np.random.uniform(size=(len(target_raw),)) < 0.8\n",
        "\n",
        "train_raw = (\n",
        "    tf.data.Dataset\n",
        "    .from_tensor_slices((context_raw[is_train], target_raw[is_train]))\n",
        "    .shuffle(BUFFER_SIZE)\n",
        "    .batch(BATCH_SIZE))\n",
        "val_raw = (\n",
        "    tf.data.Dataset\n",
        "    .from_tensor_slices((context_raw[~is_train], target_raw[~is_train]))\n",
        "    .shuffle(BUFFER_SIZE)\n",
        "    .batch(BATCH_SIZE))"
      ]
    },
    {
      "cell_type": "code",
      "execution_count": null,
      "metadata": {
        "colab": {
          "base_uri": "https://localhost:8080/"
        },
        "id": "7ch8jThNfLh2",
        "outputId": "ace8db0c-9252-4a4b-a497-c3316b702a3c"
      },
      "outputs": [
        {
          "name": "stdout",
          "output_type": "stream",
          "text": [
            "tf.Tensor(\n",
            "[b'Out of the three hospitals, the referral hospital under construction in Gnignag has been completed only 75 percent of its construction phase so far according to the head of the regional health bureau, Oman Amelu (MDr.)'\n",
            " b'Flooding in Thailand reaches the residence of the Prime Minister Yingluck Shinawatra in Bangkok, forcing her to withdraw from the Hawaii APEC summit to deal with the crisis.'\n",
            " b'British Prime Minister David Cameron announces plans for every household in the UK to automatically have pornography blocked by their internet service provider, unless they choose otherwise.'\n",
            " b'A bronze statue of Sir Alex Ferguson, a most successful manager in Manchester United\\xe2\\x80\\x99s history, was unveiled outside Old Trafford.'\n",
            " b'Letesenbet Gidey of Ethiopia smashed the world half marathon record with 1:02:52 at Valencia half-marathon, an average of 2:59 min/km!'], shape=(5,), dtype=string)\n",
            "\n",
            "tf.Tensor(\n",
            "[b\"Akka hogganaa biiroo eegumsa fayyaa naannichaa, Omaan Amelu (MDr.)'tti, hospitaalota sadan keessaa, hospitaalli rifeeraalaa Giniginaag keessatti ijaarsa irra jiru haga ammaatti sadarkaa ijaarsa isaa dhibeentaan 75 qofa xumurame.\"\n",
            " b\"Balaa lolaa Taayilaand keessatti mudateen Baankook ganda mummee ministeera yiingluuk Shinawata qaqqabuu isaatiin balaa kana irraa dandamachuuf jecha dhuma Hawaa'ii Apek keessaa baa'uuf dirqaaman.\"\n",
            " b'Ministirri muummee Biriteen Deevid Kaameruun yoo filataniin alatti jirattonni Ingiliiz hundi hatattamaan marsariitiilee suuraalee qunnamtii saalaa daddabarsan akka cufaniif waamicha taasisan.'\n",
            " b\"seenaa Maanchister Yunaaytid keessatti leenjisaa milka'aa kan ta'an Ser Aleeks Fargusaniif siidaan Meetiirraa ijaarame bakkee mooraa Oldi Tiraaforditti agarsiifame.\"\n",
            " b\"lammiin Itiyoophiyaa Eletesenbet Gidaay Rikoordii walakkaa maaraatoonii galma 1:02:52'n cabsuun dorgommii walakkaa maraatoonii Vaalenshiyaa ,giddu galeessaan 2:59 daq/km!\"], shape=(5,), dtype=string)\n"
          ]
        }
      ],
      "source": [
        "for example_context_strings, example_target_strings in train_raw.take(1):\n",
        "  print(example_context_strings[:5])\n",
        "  print()\n",
        "  print(example_target_strings[:5])\n",
        "  break"
      ]
    },
    {
      "cell_type": "code",
      "execution_count": null,
      "metadata": {
        "id": "kB46zi1yfTEm"
      },
      "outputs": [],
      "source": [
        "def tf_lower_and_split_punct(text):\n",
        "  # Split accented characters.\n",
        "  #text = tf_text.normalize_utf8(text, 'NFKD')\n",
        "  text = tf.strings.lower(text)\n",
        "  # Keep space, a to z, and selected punctuation.\n",
        "  text = tf.strings.regex_replace(text, \"[^ a-z.?!,']\", '')\n",
        "  # Add spaces around punctuation.\n",
        "  text = tf.strings.regex_replace(text, '[.?!,]', r' \\0 ')\n",
        "  # Strip whitespace.\n",
        "  text = tf.strings.strip(text)\n",
        "\n",
        "  text = tf.strings.join(['', text, ''], separator=' ')\n",
        "  return text"
      ]
    },
    {
      "cell_type": "code",
      "execution_count": null,
      "metadata": {
        "id": "vxvxGtf6fWw0"
      },
      "outputs": [],
      "source": [
        "example_text = example_context_strings[0]"
      ]
    },
    {
      "cell_type": "code",
      "execution_count": null,
      "metadata": {
        "colab": {
          "base_uri": "https://localhost:8080/"
        },
        "id": "dWidwO8yfagG",
        "outputId": "1b2cd0ab-de0a-48b3-da04-48a76c678ffb"
      },
      "outputs": [
        {
          "name": "stdout",
          "output_type": "stream",
          "text": [
            "Out of the three hospitals, the referral hospital under construction in Gnignag has been completed only 75 percent of its construction phase so far according to the head of the regional health bureau, Oman Amelu (MDr.)\n",
            " out of the three hospitals ,  the referral hospital under construction in gnignag has been completed only  percent of its construction phase so far according to the head of the regional health bureau ,  oman amelu mdr . \n"
          ]
        }
      ],
      "source": [
        "print(example_text.numpy().decode())\n",
        "print(tf_lower_and_split_punct(example_text).numpy().decode())"
      ]
    },
    {
      "cell_type": "code",
      "execution_count": null,
      "metadata": {
        "id": "mVAgKJoVffhH"
      },
      "outputs": [],
      "source": [
        "max_vocab_size = 30000\n",
        "\n",
        "context_text_processor = tf.keras.layers.TextVectorization(\n",
        "    standardize=tf_lower_and_split_punct,\n",
        "    max_tokens=max_vocab_size,\n",
        "    ragged=True)"
      ]
    },
    {
      "cell_type": "code",
      "execution_count": null,
      "metadata": {
        "colab": {
          "base_uri": "https://localhost:8080/"
        },
        "id": "3pltJ5ijfq0t",
        "outputId": "4de3a749-89d0-42d4-cb5e-f36599ed09a6"
      },
      "outputs": [
        {
          "data": {
            "text/plain": [
              "['', '[UNK]', 'the', '.', ',', 'of', 'in', 'to', 'and', 'a']"
            ]
          },
          "execution_count": 13,
          "metadata": {},
          "output_type": "execute_result"
        }
      ],
      "source": [
        "context_text_processor.adapt(train_raw.map(lambda context, target: context))\n",
        "\n",
        "# Here are the first 10 words from the vocabulary:\n",
        "context_text_processor.get_vocabulary()[:10]"
      ]
    },
    {
      "cell_type": "code",
      "execution_count": null,
      "metadata": {
        "colab": {
          "base_uri": "https://localhost:8080/"
        },
        "id": "yBJpCIhMfwi7",
        "outputId": "dae888b8-b458-4471-cb13-ea6f7f179acf"
      },
      "outputs": [
        {
          "name": "stdout",
          "output_type": "stream",
          "text": [
            "Length of vocabulary of English: 7845\n"
          ]
        }
      ],
      "source": [
        "print(\"Length of vocabulary of English:\", len(context_text_processor.get_vocabulary()))"
      ]
    },
    {
      "cell_type": "code",
      "execution_count": null,
      "metadata": {
        "colab": {
          "base_uri": "https://localhost:8080/"
        },
        "id": "sqGXRdNdf0DS",
        "outputId": "b59b3b81-5b47-478a-c0a6-6dd0f01ede3f"
      },
      "outputs": [
        {
          "data": {
            "text/plain": [
              "['', '[UNK]', '.', ',', 'fi', 'akka', 'keessatti', 'kan', 'irratti', 'yeroo']"
            ]
          },
          "execution_count": 15,
          "metadata": {},
          "output_type": "execute_result"
        }
      ],
      "source": [
        "target_text_processor = tf.keras.layers.TextVectorization(\n",
        "    standardize=tf_lower_and_split_punct,\n",
        "    max_tokens=max_vocab_size,\n",
        "    ragged=True)\n",
        "\n",
        "target_text_processor.adapt(train_raw.map(lambda context, target: target))\n",
        "target_text_processor.get_vocabulary()[:10]"
      ]
    },
    {
      "cell_type": "code",
      "execution_count": null,
      "metadata": {
        "colab": {
          "base_uri": "https://localhost:8080/"
        },
        "id": "TRwoGL0Vf34H",
        "outputId": "6938350b-7b7e-452d-9d4d-cf6f821dfcca"
      },
      "outputs": [
        {
          "name": "stdout",
          "output_type": "stream",
          "text": [
            "Length of vocabulary of Afaan Oromoo: 10745\n"
          ]
        }
      ],
      "source": [
        "print(\"Length of vocabulary of Afaan Oromoo:\", len(target_text_processor.get_vocabulary()))"
      ]
    },
    {
      "cell_type": "code",
      "execution_count": null,
      "metadata": {
        "colab": {
          "base_uri": "https://localhost:8080/"
        },
        "id": "0glF_2uLgvgO",
        "outputId": "e3acf096-f76c-4a83-d855-e3f03bd257bb"
      },
      "outputs": [
        {
          "data": {
            "text/plain": [
              "<tf.RaggedTensor [[93, 5, 2, 72, 2824, 4, 2, 4493, 310, 127, 956, 6, 6074, 16, 34, 815, 379,\n",
              "  175, 5, 31, 956, 1341, 212, 567, 55, 7, 2, 179, 5, 2, 96, 46, 688, 4,\n",
              "  4943, 7673, 5291, 3]                                                     ,\n",
              " [443, 6, 719, 1313, 2, 4426, 5, 2, 71, 40, 3391, 2375, 6, 7432, 4, 6211,\n",
              "  121, 7, 2164, 18, 2, 5953, 7615, 852, 7, 447, 14, 2, 509, 3]           ,\n",
              " [293, 71, 40, 673, 3193, 76, 374, 10, 663, 5879, 6, 2, 599, 7, 7483, 29,\n",
              "  4737, 7332, 17, 49, 913, 166, 2491, 4, 2214, 80, 3151, 4902, 3]        ]>"
            ]
          },
          "execution_count": 17,
          "metadata": {},
          "output_type": "execute_result"
        }
      ],
      "source": [
        "example_tokens = context_text_processor(example_context_strings)\n",
        "example_tokens[:3, :]"
      ]
    },
    {
      "cell_type": "code",
      "execution_count": null,
      "metadata": {
        "colab": {
          "base_uri": "https://localhost:8080/"
        },
        "id": "FDJvdU6gg0cW",
        "outputId": "b3cd0d18-dec3-42b3-b1d7-cd8bc00fb18e"
      },
      "outputs": [
        {
          "data": {
            "text/plain": [
              "<tf.Tensor: shape=(38,), dtype=int64, numpy=\n",
              "array([  93,    5,    2,   72, 2824,    4,    2, 4493,  310,  127,  956,\n",
              "          6, 6074,   16,   34,  815,  379,  175,    5,   31,  956, 1341,\n",
              "        212,  567,   55,    7,    2,  179,    5,    2,   96,   46,  688,\n",
              "          4, 4943, 7673, 5291,    3])>"
            ]
          },
          "execution_count": 18,
          "metadata": {},
          "output_type": "execute_result"
        }
      ],
      "source": [
        "\n",
        "example_tokens[0]"
      ]
    },
    {
      "cell_type": "code",
      "execution_count": null,
      "metadata": {
        "colab": {
          "base_uri": "https://localhost:8080/",
          "height": 53
        },
        "id": "PMU7anEng6A3",
        "outputId": "d12822bd-be98-4047-dcb8-7594062e79e5"
      },
      "outputs": [
        {
          "data": {
            "application/vnd.google.colaboratory.intrinsic+json": {
              "type": "string"
            },
            "text/plain": [
              "'out of the three hospitals , the referral hospital under construction in gnignag has been completed only percent of its construction phase so far according to the head of the regional health bureau , oman amelu mdr .'"
            ]
          },
          "execution_count": 19,
          "metadata": {},
          "output_type": "execute_result"
        }
      ],
      "source": [
        "context_vocab = np.array(context_text_processor.get_vocabulary())\n",
        "tokens = context_vocab[example_tokens[0].numpy()]\n",
        "' '.join(tokens)\n",
        "     "
      ]
    },
    {
      "cell_type": "code",
      "execution_count": null,
      "metadata": {
        "id": "JKQ1hUDshFfr"
      },
      "outputs": [],
      "source": [
        "def process_text(context, target):\n",
        "  context = context_text_processor(context).to_tensor()\n",
        "  target = target_text_processor(target)\n",
        "  targ_in = target[:,:-1].to_tensor()\n",
        "  targ_out = target[:,1:].to_tensor()\n",
        "  return (context, targ_in), targ_out\n",
        "\n",
        "\n",
        "train_ds = train_raw.map(process_text, tf.data.AUTOTUNE)\n",
        "val_ds = val_raw.map(process_text, tf.data.AUTOTUNE)"
      ]
    },
    {
      "cell_type": "code",
      "execution_count": null,
      "metadata": {
        "colab": {
          "base_uri": "https://localhost:8080/"
        },
        "id": "k0K5BN7thJGc",
        "outputId": "fe49adf6-75b9-4b53-8b2d-a699c891b20a"
      },
      "outputs": [
        {
          "name": "stdout",
          "output_type": "stream",
          "text": [
            "[   9  199 1424  686    8  219 4866   12   94    6]\n",
            "\n",
            "[ 2442  3133  4136   665 10543  2177  3615   943  1767     3]\n",
            "[ 3133  4136   665 10543  2177  3615   943  1767     3  2180]\n"
          ]
        }
      ],
      "source": [
        "for (ex_context_tok, ex_tar_in), ex_tar_out in train_ds.take(1):\n",
        "  print(ex_context_tok[0, :10].numpy()) \n",
        "  print()\n",
        "  print(ex_tar_in[0, :10].numpy()) \n",
        "  print(ex_tar_out[0, :10].numpy()) "
      ]
    },
    {
      "cell_type": "code",
      "execution_count": null,
      "metadata": {
        "id": "yO18Pt_ZhNjI"
      },
      "outputs": [],
      "source": [
        "UNITS = 256"
      ]
    },
    {
      "cell_type": "code",
      "execution_count": null,
      "metadata": {
        "id": "zeBtc58YhTK4"
      },
      "outputs": [],
      "source": [
        "class Encoder(tf.keras.layers.Layer):\n",
        "  def __init__(self, text_processor, units):\n",
        "    super(Encoder, self).__init__()\n",
        "    self.text_processor = text_processor\n",
        "    self.vocab_size = text_processor.vocabulary_size()\n",
        "    self.units = units\n",
        "    \n",
        "    # The embedding layer converts tokens to vectors\n",
        "    self.embedding = tf.keras.layers.Embedding(self.vocab_size, units,\n",
        "                                               mask_zero=True)\n",
        "\n",
        "    # The RNN layer processes those vectors sequentially.\n",
        "    self.rnn = tf.keras.layers.Bidirectional(\n",
        "        merge_mode='sum',\n",
        "        layer=tf.keras.layers.GRU(units,\n",
        "                            # Return the sequence and state\n",
        "                            return_sequences=True,\n",
        "                            recurrent_initializer='glorot_uniform'))\n",
        "\n",
        "  def call(self, x):\n",
        "    shape_checker = ShapeChecker()\n",
        "    shape_checker(x, 'batch s')\n",
        "\n",
        "    # 2. The embedding layer looks up the embedding vector for each token.\n",
        "    x = self.embedding(x)\n",
        "    shape_checker(x, 'batch s units')\n",
        "\n",
        "    # 3. The GRU processes the sequence of embeddings.\n",
        "    x = self.rnn(x)\n",
        "    shape_checker(x, 'batch s units')\n",
        "\n",
        "    # 4. Returns the new sequence of embeddings.\n",
        "    return x\n",
        "\n",
        "  def convert_input(self, texts):\n",
        "    texts = tf.convert_to_tensor(texts)\n",
        "    if len(texts.shape) == 0:\n",
        "      texts = tf.convert_to_tensor(texts)[tf.newaxis]\n",
        "    context = self.text_processor(texts).to_tensor()\n",
        "    context = self(context)\n",
        "    return context"
      ]
    },
    {
      "cell_type": "code",
      "execution_count": null,
      "metadata": {
        "colab": {
          "base_uri": "https://localhost:8080/"
        },
        "id": "zezTPcWUhXdR",
        "outputId": "f9ee13bc-84a6-4728-b79c-a169c849db20"
      },
      "outputs": [
        {
          "name": "stdout",
          "output_type": "stream",
          "text": [
            "Context tokens, shape (batch, s): (64, 53)\n",
            "Encoder output, shape (batch, s, units): (64, 53, 256)\n"
          ]
        }
      ],
      "source": [
        "# Encode the input sequence.\n",
        "encoder = Encoder(context_text_processor, UNITS)\n",
        "ex_context = encoder(ex_context_tok)\n",
        "\n",
        "print(f'Context tokens, shape (batch, s): {ex_context_tok.shape}')\n",
        "print(f'Encoder output, shape (batch, s, units): {ex_context.shape}')"
      ]
    },
    {
      "cell_type": "code",
      "execution_count": null,
      "metadata": {
        "id": "QTwsastXheYy"
      },
      "outputs": [],
      "source": [
        "class CrossAttention(tf.keras.layers.Layer):\n",
        "  def __init__(self, units, **kwargs):\n",
        "    super().__init__()\n",
        "    self.mha = tf.keras.layers.MultiHeadAttention(key_dim=units, num_heads=1, **kwargs)\n",
        "    self.layernorm = tf.keras.layers.LayerNormalization()\n",
        "    self.add = tf.keras.layers.Add()\n",
        "\n",
        "  def call(self, x, context):\n",
        "    shape_checker = ShapeChecker()\n",
        " \n",
        "    shape_checker(x, 'batch t units')\n",
        "    shape_checker(context, 'batch s units')\n",
        "\n",
        "    attn_output, attn_scores = self.mha(\n",
        "        query=x,\n",
        "        value=context,\n",
        "        return_attention_scores=True)\n",
        "    \n",
        "    shape_checker(x, 'batch t units')\n",
        "    shape_checker(attn_scores, 'batch heads t s')\n",
        "    \n",
        "    # Cache the attention scores for plotting later.\n",
        "    attn_scores = tf.reduce_mean(attn_scores, axis=1)\n",
        "    shape_checker(attn_scores, 'batch t s')\n",
        "    self.last_attention_weights = attn_scores\n",
        "\n",
        "    x = self.add([x, attn_output])\n",
        "    x = self.layernorm(x)\n",
        "\n",
        "    return x"
      ]
    },
    {
      "cell_type": "code",
      "execution_count": null,
      "metadata": {
        "colab": {
          "base_uri": "https://localhost:8080/"
        },
        "id": "8WldRVQ-hiWu",
        "outputId": "35e7f1ef-072e-4c4c-be8b-abdf6125e96a"
      },
      "outputs": [
        {
          "name": "stdout",
          "output_type": "stream",
          "text": [
            "Context sequence, shape (batch, s, units): (64, 53, 256)\n",
            "Target sequence, shape (batch, t, units): (64, 45, 256)\n",
            "Attention result, shape (batch, t, units): (64, 45, 256)\n",
            "Attention weights, shape (batch, t, s):    (64, 45, 53)\n"
          ]
        }
      ],
      "source": [
        "attention_layer = CrossAttention(UNITS)\n",
        "\n",
        "# Attend to the encoded tokens\n",
        "embed = tf.keras.layers.Embedding(target_text_processor.vocabulary_size(),\n",
        "                                  output_dim=UNITS, mask_zero=True)\n",
        "ex_tar_embed = embed(ex_tar_in)\n",
        "\n",
        "result = attention_layer(ex_tar_embed, ex_context)\n",
        "\n",
        "print(f'Context sequence, shape (batch, s, units): {ex_context.shape}')\n",
        "print(f'Target sequence, shape (batch, t, units): {ex_tar_embed.shape}')\n",
        "print(f'Attention result, shape (batch, t, units): {result.shape}')\n",
        "print(f'Attention weights, shape (batch, t, s):    {attention_layer.last_attention_weights.shape}')"
      ]
    },
    {
      "cell_type": "code",
      "execution_count": null,
      "metadata": {
        "colab": {
          "base_uri": "https://localhost:8080/"
        },
        "id": "AiyQNz3Vhmvl",
        "outputId": "20cfa88b-cc39-440c-b0c4-b166c7bf8610"
      },
      "outputs": [
        {
          "data": {
            "text/plain": [
              "array([1., 1., 1., 1., 1., 1., 1., 1., 1., 1., 1., 1., 1., 1., 1., 1., 1.,\n",
              "       1., 1., 1., 1., 1., 1., 1., 1., 1., 1., 1., 1., 1., 1., 1., 1., 1.,\n",
              "       1., 1., 1., 1., 1., 1., 1., 1., 1., 1., 1.], dtype=float32)"
            ]
          },
          "execution_count": 28,
          "metadata": {},
          "output_type": "execute_result"
        }
      ],
      "source": [
        "attention_layer.last_attention_weights[0].numpy().sum(axis=-1).round()"
      ]
    },
    {
      "cell_type": "code",
      "execution_count": null,
      "metadata": {
        "colab": {
          "base_uri": "https://localhost:8080/",
          "height": 452
        },
        "id": "AeREo-1khqJt",
        "outputId": "f9fb98fb-29a2-4ec1-d06b-f2d67e3b7e48"
      },
      "outputs": [
        {
          "data": {
            "image/png": "[encoded data removed]",
            "text/plain": [
              "<Figure size 640x480 with 2 Axes>"
            ]
          },
          "metadata": {},
          "output_type": "display_data"
        }
      ],
      "source": [
        "attention_weights = attention_layer.last_attention_weights\n",
        "mask=(ex_context_tok != 0).numpy()\n"
      ]
    },
    {
      "cell_type": "code",
      "execution_count": null,
      "metadata": {
        "id": "UaAE0kUEhv29"
      },
      "outputs": [],
      "source": [
        "class Decoder(tf.keras.layers.Layer):\n",
        "  @classmethod\n",
        "  def add_method(cls, fun):\n",
        "    setattr(cls, fun.__name__, fun)\n",
        "    return fun\n",
        "\n",
        "  def __init__(self, text_processor, units):\n",
        "    super(Decoder, self).__init__()\n",
        "    self.text_processor = text_processor\n",
        "    self.vocab_size = text_processor.vocabulary_size()\n",
        "    self.word_to_id = tf.keras.layers.StringLookup(\n",
        "        vocabulary=text_processor.get_vocabulary(),\n",
        "        mask_token='', oov_token='[UNK]')\n",
        "    self.id_to_word = tf.keras.layers.StringLookup(\n",
        "        vocabulary=text_processor.get_vocabulary(),\n",
        "        mask_token='', oov_token='[UNK]',\n",
        "        invert=True)\n",
        "    self.start_token = self.word_to_id('')\n",
        "    self.end_token = self.word_to_id('')\n",
        "\n",
        "    self.units = units\n",
        "\n",
        "\n",
        "    # 1. The embedding layer converts token IDs to vectors\n",
        "    self.embedding = tf.keras.layers.Embedding(self.vocab_size,\n",
        "                                               units, mask_zero=True)\n",
        "\n",
        "    # 2. The RNN keeps track of what's been generated so far.\n",
        "    self.rnn = tf.keras.layers.GRU(units,\n",
        "                                   return_sequences=True,\n",
        "                                   return_state=True,\n",
        "                                   recurrent_initializer='glorot_uniform')\n",
        "\n",
        "    # 3. The RNN output will be the query for the attention layer.\n",
        "    self.attention = CrossAttention(units)\n",
        "\n",
        "    # 4. This fully connected layer produces the logits for each\n",
        "    # output token.\n",
        "    self.output_layer = tf.keras.layers.Dense(self.vocab_size)"
      ]
    },
    {
      "cell_type": "code",
      "execution_count": null,
      "metadata": {
        "id": "bVGx8XmOhz3V"
      },
      "outputs": [],
      "source": [
        "@Decoder.add_method\n",
        "def call(self,\n",
        "         context, x,\n",
        "         state=None,\n",
        "         return_state=False):  \n",
        "  shape_checker = ShapeChecker()\n",
        "  shape_checker(x, 'batch t')\n",
        "  shape_checker(context, 'batch s units')\n",
        "\n",
        "  # 1. Lookup the embeddings\n",
        "  x = self.embedding(x)\n",
        "  shape_checker(x, 'batch t units')\n",
        "\n",
        "  # 2. Process the target sequence.\n",
        "  x, state = self.rnn(x, initial_state=state)\n",
        "  shape_checker(x, 'batch t units')\n",
        "\n",
        "  # 3. Use the RNN output as the query for the attention over the context.\n",
        "  x = self.attention(x, context)\n",
        "  self.last_attention_weights = self.attention.last_attention_weights\n",
        "  shape_checker(x, 'batch t units')\n",
        "  shape_checker(self.last_attention_weights, 'batch t s')\n",
        "\n",
        "  # Step 4. Generate logit predictions for the next token.\n",
        "  logits = self.output_layer(x)\n",
        "  shape_checker(logits, 'batch t target_vocab_size')\n",
        "\n",
        "  if return_state:\n",
        "    return logits, state\n",
        "  else:\n",
        "    return logits"
      ]
    },
    {
      "cell_type": "code",
      "execution_count": null,
      "metadata": {
        "id": "5aPm7ddVh2_h"
      },
      "outputs": [],
      "source": [
        "decoder = Decoder(target_text_processor, UNITS)"
      ]
    },
    {
      "cell_type": "code",
      "execution_count": null,
      "metadata": {
        "colab": {
          "base_uri": "https://localhost:8080/"
        },
        "id": "pBSVrmNRh7VJ",
        "outputId": "68406c06-9db5-4d03-dbb2-45d906651f83"
      },
      "outputs": [
        {
          "name": "stdout",
          "output_type": "stream",
          "text": [
            "encoder output shape: (batch, s, units) (64, 53, 256)\n",
            "input target tokens shape: (batch, t) (64, 45)\n",
            "logits shape shape: (batch, target_vocabulary_size) (64, 45, 10745)\n"
          ]
        }
      ],
      "source": [
        "logits = decoder(ex_context, ex_tar_in)\n",
        "\n",
        "print(f'encoder output shape: (batch, s, units) {ex_context.shape}')\n",
        "print(f'input target tokens shape: (batch, t) {ex_tar_in.shape}')\n",
        "print(f'logits shape shape: (batch, target_vocabulary_size) {logits.shape}')\n",
        "     "
      ]
    },
    {
      "cell_type": "code",
      "execution_count": null,
      "metadata": {
        "id": "-93lSLFqh-jF"
      },
      "outputs": [],
      "source": [
        "@Decoder.add_method\n",
        "def get_initial_state(self, context):\n",
        "  batch_size = tf.shape(context)[0]\n",
        "  start_tokens = tf.fill([batch_size, 1], self.start_token)\n",
        "  done = tf.zeros([batch_size, 1], dtype=tf.bool)\n",
        "  embedded = self.embedding(start_tokens)\n",
        "  return start_tokens, done, self.rnn.get_initial_state(embedded)[0]\n",
        "     "
      ]
    },
    {
      "cell_type": "code",
      "execution_count": null,
      "metadata": {
        "id": "0lqPoUs5iEHI"
      },
      "outputs": [],
      "source": [
        "@Decoder.add_method\n",
        "def tokens_to_text(self, tokens):\n",
        "  words = self.id_to_word(tokens)\n",
        "  result = tf.strings.reduce_join(words, axis=-1, separator=' ')\n",
        "  result = tf.strings.regex_replace(result, '^ *\\ *', '')\n",
        "  result = tf.strings.regex_replace(result, ' *\\<\\/s\\> *$', '')\n",
        "  return result"
      ]
    },
    {
      "cell_type": "code",
      "execution_count": null,
      "metadata": {
        "id": "yAn0tTsHiHTV"
      },
      "outputs": [],
      "source": [
        "@Decoder.add_method\n",
        "def get_next_token(self, context, next_token, done, state, temperature = 0.0):\n",
        "  logits, state = self(\n",
        "    context, next_token,\n",
        "    state = state,\n",
        "    return_state=True) \n",
        "  \n",
        "  if temperature == 0.0:\n",
        "    next_token = tf.argmax(logits, axis=-1)\n",
        "  else:\n",
        "    logits = logits[:, -1, :]/temperature\n",
        "    next_token = tf.random.categorical(logits, num_samples=1)\n",
        "\n",
        "  # If a sequence produces an `end_token`, set it `done`\n",
        "  done = done | (next_token == self.end_token)\n",
        "  # Once a sequence is done it only produces 0-padding.\n",
        "  next_token = tf.where(done, tf.constant(0, dtype=tf.int64), next_token)\n",
        "  \n",
        "  return next_token, done, state"
      ]
    },
    {
      "cell_type": "code",
      "execution_count": null,
      "metadata": {
        "colab": {
          "base_uri": "https://localhost:8080/"
        },
        "id": "Rs3YEcjIiLbH",
        "outputId": "cf67454a-98f9-453e-c9cb-31f4f7d474f2"
      },
      "outputs": [
        {
          "data": {
            "text/plain": [
              "array([b\"baafaman duula hojirra saatalaayitii odola jallisii hawaa'ii onnachiistu shaampiyoonummaatti tegenee\",\n",
              "       b'woorkshooppichi orliins jiraachaa gaazexissitootaaf baniinsa abbay guyyaalamature biootessaa makuuf dorgommiiwwan',\n",
              "       b\"ballessuuf dooniiwwan ajjeechaa moozambiki boowul pilaaneticha 'doon shuumatee haaromsaa qindeessa\"],\n",
              "      dtype=object)"
            ]
          },
          "execution_count": 37,
          "metadata": {},
          "output_type": "execute_result"
        }
      ],
      "source": [
        "\n",
        "# Setup the loop variables.\n",
        "next_token, done, state = decoder.get_initial_state(ex_context)\n",
        "tokens = []\n",
        "\n",
        "for n in range(10):\n",
        "  # Run one step.\n",
        "  next_token, done, state = decoder.get_next_token(\n",
        "      ex_context, next_token, done, state, temperature=1.0)\n",
        "  # Add the token to the output.\n",
        "  tokens.append(next_token)\n",
        "\n",
        "# Stack all the tokens together.\n",
        "tokens = tf.concat(tokens, axis=-1) # (batch, t)\n",
        "\n",
        "# Convert the tokens back to a a string\n",
        "result = decoder.tokens_to_text(tokens)\n",
        "result[:3].numpy()"
      ]
    },
    {
      "cell_type": "code",
      "execution_count": null,
      "metadata": {
        "id": "Gulgr1yjiQKg"
      },
      "outputs": [],
      "source": [
        "class Translator(tf.keras.Model):\n",
        "  @classmethod\n",
        "  def add_method(cls, fun):\n",
        "    setattr(cls, fun.__name__, fun)\n",
        "    return fun\n",
        "\n",
        "  def __init__(self, units,\n",
        "               context_text_processor,\n",
        "               target_text_processor):\n",
        "    super().__init__()\n",
        "    # Build the encoder and decoder\n",
        "    encoder = Encoder(context_text_processor, units)\n",
        "    decoder = Decoder(target_text_processor, units)\n",
        "\n",
        "    self.encoder = encoder\n",
        "    self.decoder = decoder\n",
        "\n",
        "  def call(self, inputs):\n",
        "    context, x = inputs\n",
        "    context = self.encoder(context)\n",
        "    logits = self.decoder(context, x)\n",
        "\n",
        "    #TODO(b/250038731): remove this\n",
        "    try:\n",
        "      # Delete the keras mask, so keras doesn't scale the loss+accuracy. \n",
        "      del logits._keras_mask\n",
        "    except AttributeError:\n",
        "      pass\n",
        "\n",
        "    return logits"
      ]
    },
    {
      "cell_type": "code",
      "execution_count": null,
      "metadata": {
        "colab": {
          "base_uri": "https://localhost:8080/"
        },
        "id": "R3DGWJjQiUlk",
        "outputId": "1e1664a3-d2a5-4456-c491-4e45456bb5ce"
      },
      "outputs": [
        {
          "name": "stdout",
          "output_type": "stream",
          "text": [
            "Context tokens, shape: (batch, s, units) (64, 53)\n",
            "Target tokens, shape: (batch, t) (64, 45)\n",
            "logits, shape: (batch, t, target_vocabulary_size) (64, 45, 10745)\n"
          ]
        }
      ],
      "source": [
        "model = Translator(UNITS, context_text_processor, target_text_processor)\n",
        "\n",
        "logits = model((ex_context_tok, ex_tar_in))\n",
        "\n",
        "print(f'Context tokens, shape: (batch, s, units) {ex_context_tok.shape}')\n",
        "print(f'Target tokens, shape: (batch, t) {ex_tar_in.shape}')\n",
        "print(f'logits, shape: (batch, t, target_vocabulary_size) {logits.shape}')"
      ]
    },
    {
      "cell_type": "code",
      "execution_count": null,
      "metadata": {
        "id": "Hm67BSOWiYS8"
      },
      "outputs": [],
      "source": [
        "def masked_loss(y_true, y_pred):\n",
        "    # Calculate the loss for each item in the batch.\n",
        "    loss_fn = tf.keras.losses.SparseCategoricalCrossentropy(\n",
        "        from_logits=True, reduction='none')\n",
        "    loss = loss_fn(y_true, y_pred)\n",
        "\n",
        "    # Mask off the losses on padding.\n",
        "    mask = tf.cast(y_true != 0, loss.dtype)\n",
        "    loss *= mask\n",
        "\n",
        "    # Return the total.\n",
        "    return tf.reduce_sum(loss)/tf.reduce_sum(mask)"
      ]
    },
    {
      "cell_type": "code",
      "execution_count": null,
      "metadata": {
        "id": "t6d1aFUpib4c"
      },
      "outputs": [],
      "source": [
        "def masked_acc(y_true, y_pred):\n",
        "    # Calculate the loss for each item in the batch.\n",
        "    y_pred = tf.argmax(y_pred, axis=-1)\n",
        "    y_pred = tf.cast(y_pred, y_true.dtype)\n",
        "    \n",
        "    match = tf.cast(y_true == y_pred, tf.float32)\n",
        "    mask = tf.cast(y_true != 0, tf.float32)\n",
        "    \n",
        "    return tf.reduce_sum(match)/tf.reduce_sum(mask)"
      ]
    },
    {
      "cell_type": "code",
      "execution_count": null,
      "metadata": {
        "id": "IfrxEpsuieyB"
      },
      "outputs": [],
      "source": [
        "model.compile(optimizer='adam',\n",
        "              loss=masked_loss, \n",
        "              metrics=[masked_acc, masked_loss])"
      ]
    },
    {
      "cell_type": "code",
      "execution_count": null,
      "metadata": {
        "colab": {
          "base_uri": "https://localhost:8080/"
        },
        "id": "wajkdd1Dih_g",
        "outputId": "5251150e-1fed-4fd6-b4a5-2e0ec4a1b1a7"
      },
      "outputs": [
        {
          "data": {
            "text/plain": [
              "{'expected_loss': 9.282196, 'expected_acc': 9.306654257794323e-05}"
            ]
          },
          "execution_count": 43,
          "metadata": {},
          "output_type": "execute_result"
        }
      ],
      "source": [
        "vocab_size = 1.0 * target_text_processor.vocabulary_size()\n",
        "\n",
        "{\"expected_loss\": tf.math.log(vocab_size).numpy(),\n",
        " \"expected_acc\": 1/vocab_size}"
      ]
    },
    {
      "cell_type": "code",
      "execution_count": null,
      "metadata": {
        "colab": {
          "base_uri": "https://localhost:8080/"
        },
        "id": "x6o8sDJeimI1",
        "outputId": "29e2bc12-2c28-4bdf-e4c8-7c6dc6466b58"
      },
      "outputs": [
        {
          "name": "stdout",
          "output_type": "stream",
          "text": [
            " 7/20 [=========>....................] - ETA: 18s - loss: 9.2809 - masked_acc: 0.0000e+00 - masked_loss: 9.2810"
          ]
        },
        {
          "name": "stderr",
          "output_type": "stream",
          "text": [
            "WARNING:tensorflow:Your input ran out of data; interrupting training. Make sure that your dataset or generator can generate at least `steps_per_epoch * epochs` batches (in this case, 20 batches). You may need to use the repeat() function when building your dataset.\n"
          ]
        },
        {
          "name": "stdout",
          "output_type": "stream",
          "text": [
            "\b\b\b\b\b\b\b\b\b\b\b\b\b\b\b\b\b\b\b\b\b\b\b\b\b\b\b\b\b\b\b\b\b\b\b\b\b\b\b\b\b\b\b\b\b\b\b\b\b\b\b\b\b\b\b\b\b\b\b\b\b\b\b\b\b\b\b\b\b\b\b\b\b\b\b\b\b\b\b\b\b\b\b\b\b\b\b\b\b\b\b\b\b\b\b\b\b\b\b\b\b\b\b\b\b\b\b\b\b\b\b\r20/20 [==============================] - 20s 480ms/step - loss: 9.2809 - masked_acc: 0.0000e+00 - masked_loss: 9.2810\n"
          ]
        },
        {
          "data": {
            "text/plain": [
              "{'loss': 9.280855178833008,\n",
              " 'masked_acc': 0.0,\n",
              " 'masked_loss': 9.280975341796875}"
            ]
          },
          "execution_count": 44,
          "metadata": {},
          "output_type": "execute_result"
        }
      ],
      "source": [
        "model.evaluate(val_ds, steps=20, return_dict=True)"
      ]
    },
    {
      "cell_type": "code",
      "execution_count": null,
      "metadata": {
        "colab": {
          "background_save": true,
          "base_uri": "https://localhost:8080/"
        },
        "id": "nHg_kb49kdU-",
        "outputId": "b4d6dc9f-5c98-43bd-da71-9842f35d4b57"
      },
      "outputs": [
        {
          "name": "stdout",
          "output_type": "stream",
          "text": [
            "Epoch 1/10\n",
            "100/100 [==============================] - 351s 3s/step - loss: 7.9089 - masked_acc: 0.0621 - masked_loss: 7.9154 - val_loss: 8.2520 - val_masked_acc: 0.0686 - val_masked_loss: 8.2520\n",
            "Epoch 2/10\n",
            "100/100 [==============================] - 314s 3s/step - loss: 6.0861 - masked_acc: 0.1774 - masked_loss: 6.0992 - val_loss: 8.0177 - val_masked_acc: 0.1004 - val_masked_loss: 8.0177\n",
            "Epoch 3/10\n",
            "100/100 [==============================] - 321s 3s/step - loss: 2.7011 - masked_acc: 0.5762 - masked_loss: 2.7218 - val_loss: 8.4360 - val_masked_acc: 0.0968 - val_masked_loss: 8.4360\n",
            "Epoch 4/10\n",
            "100/100 [==============================] - 313s 3s/step - loss: 0.6726 - masked_acc: 0.9215 - masked_loss: 0.6763 - val_loss: 9.3666 - val_masked_acc: 0.0802 - val_masked_loss: 9.3666\n",
            "Epoch 5/10\n",
            "100/100 [==============================] - 318s 3s/step - loss: 0.1615 - masked_acc: 0.9911 - masked_loss: 0.1631 - val_loss: 9.9165 - val_masked_acc: 0.0813 - val_masked_loss: 9.9165\n",
            "Epoch 6/10\n",
            "100/100 [==============================] - 322s 3s/step - loss: 0.0648 - masked_acc: 0.9979 - masked_loss: 0.0643 - val_loss: 10.0096 - val_masked_acc: 0.0783 - val_masked_loss: 10.0096\n",
            "Epoch 7/10\n",
            "100/100 [==============================] - 315s 3s/step - loss: 0.0321 - masked_acc: 0.9996 - masked_loss: 0.0320 - val_loss: 10.2460 - val_masked_acc: 0.0861 - val_masked_loss: 10.2460\n",
            "Epoch 8/10\n",
            "100/100 [==============================] - 310s 3s/step - loss: 0.0202 - masked_acc: 0.9999 - masked_loss: 0.0203 - val_loss: 10.4081 - val_masked_acc: 0.0808 - val_masked_loss: 10.4081\n",
            "Epoch 9/10\n",
            "100/100 [==============================] - 318s 3s/step - loss: 0.0146 - masked_acc: 1.0000 - masked_loss: 0.0145 - val_loss: 10.4621 - val_masked_acc: 0.0878 - val_masked_loss: 10.4621\n",
            "Epoch 10/10\n",
            "100/100 [==============================] - 308s 3s/step - loss: 0.0112 - masked_acc: 1.0000 - masked_loss: 0.0112 - val_loss: 10.6330 - val_masked_acc: 0.0825 - val_masked_loss: 10.6330\n"
          ]
        }
      ],
      "source": [
        "history = model.fit(\n",
        "    train_ds.repeat(), \n",
        "    epochs=10,\n",
        "    steps_per_epoch = 100,\n",
        "    validation_data=val_ds,\n",
        "    validation_steps = 2,\n",
        "    #callbacks=[tf.keras.callbacks.EarlyStopping(patience=5)]\n",
        "    )"
      ]
    },
    {
      "cell_type": "code",
      "execution_count": null,
      "metadata": {
        "colab": {
          "background_save": true,
          "base_uri": "https://localhost:8080/",
          "height": 466
        },
        "id": "aS4U-bKlkj4Q",
        "outputId": "f6aa497e-dd29-4f8a-c2b5-0b88c17fff88"
      },
      "outputs": [
        {
          "data": {
            "text/plain": [
              "<matplotlib.legend.Legend at 0x7f391ac73f40>"
            ]
          },
          "execution_count": 46,
          "metadata": {},
          "output_type": "execute_result"
        },
        {
          "data": {
            "image/png": "[encoded data removed]",
            "text/plain": [
              "<Figure size 640x480 with 1 Axes>"
            ]
          },
          "metadata": {},
          "output_type": "display_data"
        }
      ],
      "source": [
        "plt.plot(history.history['loss'], label='loss')\n",
        "plt.plot(history.history['val_loss'], label='val_loss')\n",
        "plt.ylim([0, max(plt.ylim())])\n",
        "plt.xlabel('Epoch #')\n",
        "plt.ylabel('CE/token')\n",
        "plt.legend()"
      ]
    },
    {
      "cell_type": "code",
      "execution_count": null,
      "metadata": {
        "colab": {
          "background_save": true,
          "base_uri": "https://localhost:8080/",
          "height": 466
        },
        "id": "H9BOUW_gkmcx",
        "outputId": "b0c3e853-b358-4b98-e1a5-082f39a67a59"
      },
      "outputs": [
        {
          "data": {
            "text/plain": [
              "<matplotlib.legend.Legend at 0x7f391759ead0>"
            ]
          },
          "execution_count": 47,
          "metadata": {},
          "output_type": "execute_result"
        },
        {
          "data": {
            "image/png": "[encoded data removed]",
            "text/plain": [
              "<Figure size 640x480 with 1 Axes>"
            ]
          },
          "metadata": {},
          "output_type": "display_data"
        }
      ],
      "source": [
        "plt.plot(history.history['masked_acc'], label='accuracy')\n",
        "plt.plot(history.history['val_masked_acc'], label='val_accuracy')\n",
        "plt.ylim([0, max(plt.ylim())])\n",
        "plt.xlabel('Epoch #')\n",
        "plt.ylabel('CE/token')\n",
        "plt.legend()"
      ]
    },
    {
      "cell_type": "code",
      "execution_count": null,
      "metadata": {
        "colab": {
          "background_save": true
        },
        "id": "3ZzTDLWdkq3Z"
      },
      "outputs": [],
      "source": [
        "@Translator.add_method\n",
        "def translate(self,\n",
        "              texts, *,\n",
        "              max_length=50,\n",
        "              temperature=0.0):\n",
        "  # Process the input texts\n",
        "  context = self.encoder.convert_input(texts)\n",
        "  batch_size = tf.shape(texts)[0]\n",
        "\n",
        "  # Setup the loop inputs\n",
        "  tokens = []\n",
        "  attention_weights = []\n",
        "  next_token, done, state = self.decoder.get_initial_state(context)\n",
        "\n",
        "  for _ in range(max_length):\n",
        "    # Generate the next token\n",
        "    next_token, done, state = self.decoder.get_next_token(\n",
        "        context, next_token, done,  state, temperature)\n",
        "        \n",
        "    # Collect the generated tokens\n",
        "    tokens.append(next_token)\n",
        "    attention_weights.append(self.decoder.last_attention_weights)\n",
        "    \n",
        "    if tf.executing_eagerly() and tf.reduce_all(done):\n",
        "      break\n",
        "\n",
        "  # Stack the lists of tokens and attention weights.\n",
        "  tokens = tf.concat(tokens, axis=-1)   # t*[(batch 1)] -> (batch, t)\n",
        "  self.last_attention_weights = tf.concat(attention_weights, axis=1)  # t*[(batch 1 s)] -> (batch, t s)\n",
        "\n",
        "  result = self.decoder.tokens_to_text(tokens)\n",
        "  result = tf.strings.regex_replace(result, r' ([.?!]) ', r'\\1')\n",
        "  return result"
      ]
    },
    {
      "cell_type": "code",
      "execution_count": null,
      "metadata": {
        "colab": {
          "background_save": true
        },
        "id": "Fn2UlAEuktsQ",
        "outputId": "36cf7172-1916-47d6-debd-2f4c14577fbd"
      },
      "outputs": [
        {
          "data": {
            "application/vnd.google.colaboratory.intrinsic+json": {
              "type": "string"
            },
            "text/plain": [
              "\"galaanaa dhuguun wanta danda'amuuf keessumaa galatni isa ashaboon fayyadama tekinooloojiitiin bishaan irra adda ba'uuf haa ta'u malee akeekkachiisi lixa sumaatiraa keessatti akkuma kana kirkirri lafa ni mudata jedhu qabatamaa akka hin taane mirkanaa'e.. tahan yeroo.adda addummaa wal bira yoo.yeroo jirtutti , akka warri rooman\""
            ]
          },
          "execution_count": 49,
          "metadata": {},
          "output_type": "execute_result"
        }
      ],
      "source": [
        "result = model.translate(['Thanks.']) # Galatoomaa.\n",
        "result = result[0].numpy().decode()\n",
        "result"
      ]
    },
    {
      "cell_type": "code",
      "execution_count": null,
      "metadata": {
        "colab": {
          "background_save": true
        },
        "id": "aXBBEympkxc2"
      },
      "outputs": [],
      "source": [
        "@Translator.add_method\n",
        "def plot_attention(self, text, **kwargs):\n",
        "  assert isinstance(text, str)\n",
        "  output = self.translate([text], **kwargs)\n",
        "  output = output[0].numpy().decode()\n",
        "\n",
        "  attention = self.last_attention_weights[0]\n",
        "\n",
        "  context = tf_lower_and_split_punct(text)\n",
        "  context = context.numpy().decode().split()\n",
        "\n",
        "  output = tf_lower_and_split_punct(output)\n",
        "  output = output.numpy().decode().split()[1:]\n",
        "\n",
        "  fig = plt.figure(figsize=(10, 10))\n",
        "  ax = fig.add_subplot(1, 1, 1)\n",
        "\n",
        "  ax.matshow(attention, cmap='viridis', vmin=0.0)\n",
        "\n",
        "  fontdict = {'fontsize': 14}\n",
        "\n",
        "  ax.set_xticklabels([''] + context, fontdict=fontdict, rotation=90)\n",
        "  ax.set_yticklabels([''] + output, fontdict=fontdict)\n",
        "\n",
        "  ax.xaxis.set_major_locator(ticker.MultipleLocator(1))\n",
        "  ax.yaxis.set_major_locator(ticker.MultipleLocator(1))\n",
        "\n",
        "  ax.set_xlabel('Input text')\n",
        "  ax.set_ylabel('Output text')"
      ]
    },
    {
      "cell_type": "code",
      "execution_count": null,
      "metadata": {
        "colab": {
          "background_save": true
        },
        "id": "Ri4VEpSSk-iN",
        "outputId": "f50d3045-ac47-43ec-ce16-7894ab13f993"
      },
      "outputs": [
        {
          "name": "stdout",
          "output_type": "stream",
          "text": [
            "Expected output:\n",
            " Dorgommiileen ispoortii adda addaa, agarsiisonni fi\n",
            "simpooziyemiiwwanis qophiilee festivaalicha irratti karoorfamaniidha.\n"
          ]
        }
      ],
      "source": [
        "long_text = context_raw[-1]\n",
        "import textwrap\n",
        "print('Expected output:\\n', '\\n'.join(textwrap.wrap(target_raw[-1])))"
      ]
    },
    {
      "cell_type": "code",
      "execution_count": null,
      "metadata": {
        "colab": {
          "background_save": true
        },
        "id": "VtnRaq4OlBMn",
        "outputId": "549c8859-a6e5-4aa0-bb43-65342ac93cf1"
      },
      "outputs": [
        {
          "name": "stdout",
          "output_type": "stream",
          "text": [
            "Expected output:\n",
            " Afaan Ingilizii barachuuf karaan hundarra gaariin gara Ameerikaa\n",
            "deemuudha.\n"
          ]
        }
      ],
      "source": [
        "long_text = \"The best way to learn English is to go to America.\"\n",
        "import textwrap\n",
        "print('Expected output:\\n', '\\n'.join(textwrap.wrap(\"Afaan Ingilizii barachuuf karaan hundarra gaariin gara Ameerikaa deemuudha.\")))"
      ]
    },
    {
      "cell_type": "code",
      "execution_count": null,
      "metadata": {
        "colab": {
          "background_save": true
        },
        "id": "o-E6PvCElHuf"
      },
      "outputs": [],
      "source": [
        "inputs = [\n",
        "    \"It is really cold here.\", # \"As baayyee qorra.\"\n",
        "    \"This is my life.\", # \"Kun jireenya kooti.\"\n",
        "    \"His room is a mess.\" # \"Kutaan isaa jeequmsa.\"\n",
        "]"
      ]
    },
    {
      "cell_type": "code",
      "execution_count": null,
      "metadata": {
        "colab": {
          "background_save": true
        },
        "id": "QYxe37hQlLcf",
        "outputId": "62c7c83d-0939-49b8-d168-3854b3de3728"
      },
      "outputs": [
        {
          "name": "stdout",
          "output_type": "stream",
          "text": [
            "swiidin bara ruwandaa keessatti yakka duguggaa sanyii keessatti hirmattaniitu himannaa jedhuun manguddoo umurii lammii siwidiin dhalootaan ruwaandaa kan ta'an klaaver beerinkindii hidha umurii guutuun adabe.. meeshaan uffata miiccaa samsang ariitii guddaan uffata ulfaataa miicaa yoo jiraate dhuka'uu akka danda'u akeekkachiise.. doonaald tiraamp qophii champiyoonaa suupper boowul\n",
            "guddaan itoophiyaa marsaa lamatti adda bahe.bakka bu'oota ummataa haaraan kun galii magaalichaa sektera kanaa nii guddisa jedhe.kun waggaa darbe mirkaneesse.baaraak obaamaan ammoo akka jiru akeeka jedhe.irraa bilisa akka waancaa biyyootaa afirikaacaf darbeera.. km sirrii fi galaanaa irraa faana , irratti\n",
            "keessatti akkuma bashannanaa fudhachuun gara waan ijaan mullatuutti guddachaa dhufeen., aangawoota filaman garagaraa dabalatee., filannoo kantiibaa magaalaa niwu yoork bara waliin dhahuuf yaaluun yakka waliin dhahuun shakkamanii hidhaman.naannoo daangaa somaaliyaatti ni deemu kan kun tahan gara dorgomii ni deebi'a.irraa.ejensichi ummati\n",
            "\n",
            "CPU times: user 6.8 s, sys: 11.4 ms, total: 6.81 s\n",
            "Wall time: 6.84 s\n"
          ]
        }
      ],
      "source": [
        "\n",
        "%%time\n",
        "for t in inputs:\n",
        "  print(model.translate([t])[0].numpy().decode())\n",
        "\n",
        "print()"
      ]
    },
    {
      "cell_type": "code",
      "execution_count": null,
      "metadata": {
        "colab": {
          "background_save": true
        },
        "id": "TUUjFvr2lOvr",
        "outputId": "7b075a5b-6adf-4ab0-fa1a-a18fd511d4a2"
      },
      "outputs": [
        {
          "name": "stdout",
          "output_type": "stream",
          "text": [
            "swiidin bara ruwandaa keessatti yakka duguggaa sanyii keessatti hirmattaniitu himannaa jedhuun manguddoo umurii lammii siwidiin dhalootaan ruwaandaa kan ta'an klaaver beerinkindii hidha umurii guutuun adabe.. meeshaan uffata miiccaa samsang ariitii guddaan uffata ulfaataa miicaa yoo jiraate dhuka'uu akka danda'u akeekkachiise.. doonaald tiraamp qophii champiyoonaa suupper boowul\n",
            "guddaan itoophiyaa marsaa lamatti adda bahe.bakka bu'oota ummataa haaraan kun galii magaalichaa sektera kanaa nii guddisa jedhe.kun waggaa darbe mirkaneesse.baaraak obaamaan ammoo akka jiru akeeka jedhe.irraa bilisa akka waancaa biyyootaa afirikaacaf darbeera.. km sirrii fi galaanaa irraa faana , irratti\n",
            "keessatti akkuma bashannanaa fudhachuun gara waan ijaan mullatuutti guddachaa dhufeen., aangawoota filaman garagaraa dabalatee., filannoo kantiibaa magaalaa niwu yoork bara waliin dhahuuf yaaluun yakka waliin dhahuun shakkamanii hidhaman.naannoo daangaa somaaliyaatti ni deemu kan kun tahan gara dorgomii ni deebi'a.irraa.ejensichi ummati\n",
            "\n",
            "CPU times: user 3.2 s, sys: 13 ms, total: 3.21 s\n",
            "Wall time: 3.23 s\n"
          ]
        }
      ],
      "source": [
        "%%time\n",
        "result = model.translate(inputs)\n",
        "\n",
        "print(result[0].numpy().decode())\n",
        "print(result[1].numpy().decode())\n",
        "print(result[2].numpy().decode())\n",
        "print()\n"
      ]
    },
    {
      "cell_type": "code",
      "execution_count": null,
      "metadata": {
        "colab": {
          "background_save": true
        },
        "id": "jKd5oU5ClSC9"
      },
      "outputs": [],
      "source": [
        "class Export(tf.Module):\n",
        "  def __init__(self, model):\n",
        "    self.model = model\n",
        "\n",
        "  @tf.function(input_signature=[tf.TensorSpec(dtype=tf.string, shape=[None])])\n",
        "  def translate(self, inputs):\n",
        "    return self.model.translate(inputs)"
      ]
    },
    {
      "cell_type": "code",
      "execution_count": null,
      "metadata": {
        "colab": {
          "background_save": true
        },
        "id": "nGohALUzlVM8"
      },
      "outputs": [],
      "source": [
        "export = Export(model)"
      ]
    },
    {
      "cell_type": "code",
      "execution_count": null,
      "metadata": {
        "colab": {
          "background_save": true
        },
        "id": "yv1HBzjFlX4D",
        "outputId": "f6b887a2-7a6b-4977-cf23-633b23009671"
      },
      "outputs": [
        {
          "name": "stdout",
          "output_type": "stream",
          "text": [
            "CPU times: user 1min 19s, sys: 1.24 s, total: 1min 20s\n",
            "Wall time: 1min 20s\n"
          ]
        }
      ],
      "source": [
        "%%time\n",
        "_ = export.translate(tf.constant(inputs))"
      ]
    },
    {
      "cell_type": "code",
      "execution_count": null,
      "metadata": {
        "colab": {
          "background_save": true
        },
        "id": "c1xwxlvqlaIF",
        "outputId": "d44563a5-fee6-49be-b59e-d968ff0b1660"
      },
      "outputs": [
        {
          "name": "stdout",
          "output_type": "stream",
          "text": [
            "swiidin bara ruwandaa keessatti yakka duguggaa sanyii keessatti hirmattaniitu himannaa jedhuun manguddoo umurii lammii siwidiin dhalootaan ruwaandaa kan ta'an klaaver beerinkindii hidha umurii guutuun adabe.. meeshaan uffata miiccaa samsang ariitii guddaan uffata ulfaataa miicaa yoo jiraate dhuka'uu akka danda'u akeekkachiise.. doonaald tiraamp qophii champiyoonaa suupper boowul\n",
            "guddaan itoophiyaa marsaa lamatti adda bahe.bakka bu'oota ummataa haaraan kun galii magaalichaa sektera kanaa nii guddisa jedhe.kun waggaa darbe mirkaneesse.baaraak obaamaan ammoo akka jiru akeeka jedhe.irraa bilisa akka waancaa biyyootaa afirikaacaf darbeera.. km sirrii fi galaanaa irraa faana , irratti\n",
            "keessatti akkuma bashannanaa fudhachuun gara waan ijaan mullatuutti guddachaa dhufeen., aangawoota filaman garagaraa dabalatee., filannoo kantiibaa magaalaa niwu yoork bara waliin dhahuuf yaaluun yakka waliin dhahuun shakkamanii hidhaman.naannoo daangaa somaaliyaatti ni deemu kan kun tahan gara dorgomii ni deebi'a.irraa.ejensichi ummati\n",
            "\n",
            "CPU times: user 335 ms, sys: 8.06 ms, total: 343 ms\n",
            "Wall time: 232 ms\n"
          ]
        }
      ],
      "source": [
        "\n",
        "%%time\n",
        "result = export.translate(tf.constant(inputs))\n",
        "\n",
        "print(result[0].numpy().decode())\n",
        "print(result[1].numpy().decode())\n",
        "print(result[2].numpy().decode())\n",
        "print()"
      ]
    },
    {
      "cell_type": "code",
      "execution_count": null,
      "metadata": {
        "colab": {
          "background_save": true
        },
        "id": "kLhEo-63ldTx",
        "outputId": "cd34a771-0890-49ff-95c8-87c10f49961d"
      },
      "outputs": [
        {
          "name": "stderr",
          "output_type": "stream",
          "text": [
            "WARNING:tensorflow:Model's `__init__()` arguments contain non-serializable objects. Please implement a `get_config()` method in the subclassed Model for proper saving and loading. Defaulting to empty config.\n",
            "WARNING:tensorflow:Model's `__init__()` arguments contain non-serializable objects. Please implement a `get_config()` method in the subclassed Model for proper saving and loading. Defaulting to empty config.\n",
            "WARNING:absl:Found untraced functions such as _update_step_xla, embedding_3_layer_call_fn, embedding_3_layer_call_and_return_conditional_losses, embedding_4_layer_call_fn, embedding_4_layer_call_and_return_conditional_losses while saving (showing 5 of 33). These functions will not be directly callable after loading.\n"
          ]
        },
        {
          "name": "stdout",
          "output_type": "stream",
          "text": [
            "CPU times: user 1min 49s, sys: 2.47 s, total: 1min 52s\n",
            "Wall time: 1min 53s\n"
          ]
        }
      ],
      "source": [
        "\n",
        "%%time\n",
        "tf.saved_model.save(export, 'eng_translator_newest',\n",
        "                    signatures={'serving_default': export.translate})"
      ]
    },
    {
      "cell_type": "code",
      "execution_count": null,
      "metadata": {
        "colab": {
          "background_save": true
        },
        "id": "CYVCcLmDlfpD",
        "outputId": "47117065-07ed-4e23-a42e-9330f15b7242"
      },
      "outputs": [
        {
          "name": "stdout",
          "output_type": "stream",
          "text": [
            "CPU times: user 1min 12s, sys: 1.92 s, total: 1min 14s\n",
            "Wall time: 1min 13s\n"
          ]
        }
      ],
      "source": [
        "%%time\n",
        "reloaded = tf.saved_model.load('eng_translator_newest')\n",
        "_ = reloaded.translate(tf.constant(inputs)) #warmup"
      ]
    },
    {
      "cell_type": "code",
      "execution_count": null,
      "metadata": {
        "colab": {
          "background_save": true
        },
        "id": "xzEVUN5Wli3h"
      },
      "outputs": [],
      "source": [
        "from nltk.translate.bleu_score import corpus_bleu, sentence_bleu, SmoothingFunction\n",
        "\n",
        "def compute_bleu_score(references, translations, weights=(0.25, 0.25, 0.25, 0.25)):\n",
        "    \"\"\"\n",
        "    Compute the BLEU score for a set of translations and their corresponding reference translations.\n",
        "    :param references: A list of reference translations, where each translation is a list of tokens.\n",
        "    :param translations: A list of translations to evaluate, where each translation is a list of tokens.\n",
        "    :param weights: A tuple of weights to use for each n-gram score, where len(weights) = max_n in the n-gram scores.\n",
        "    :return: The BLEU score for the translations, as a float between 0 and 1.\n",
        "    \"\"\"\n",
        "    # Use smoothing to avoid division by zero\n",
        "    smoothing_function = SmoothingFunction().method1\n",
        "\n",
        "    # Compute the BLEU score for the translations and their reference translations\n",
        "    bleu_score = corpus_bleu([[ref] for ref in references], translations, weights=weights, smoothing_function=smoothing_function)\n",
        "\n",
        "    return bleu_score"
      ]
    },
    {
      "cell_type": "code",
      "execution_count": null,
      "metadata": {
        "id": "_hue7FZxllR1"
      },
      "outputs": [],
      "source": [
        "result = reloaded.translate(tf.constant(context_raw[100:200]))"
      ]
    },
    {
      "cell_type": "code",
      "execution_count": null,
      "metadata": {
        "id": "Q54B_-ZKlnga"
      },
      "outputs": [],
      "source": [
        "import re\n",
        "result = [x.numpy().decode() for x in result]\n",
        "pattern = r\"(?<=[.?!])\\s+\"\n",
        "result = [re.sub(pattern, \"\", x) for x in result]"
      ]
    },
    {
      "cell_type": "code",
      "execution_count": null,
      "metadata": {
        "id": "6FHDTLGHlqzY"
      },
      "outputs": [],
      "source": [
        "# Compute the BLEU score for the translations and their reference translations\n",
        "bleu_score = compute_bleu_score(target_raw[100:200], result)\n",
        "\n",
        "print(\"BLEU score:\", bleu_score)"
      ]
    },
    {
      "cell_type": "code",
      "execution_count": null,
      "metadata": {
        "id": "Rhkd1e3eltgs"
      },
      "outputs": [],
      "source": [
        "result[:10]"
      ]
    },
    {
      "cell_type": "code",
      "execution_count": null,
      "metadata": {
        "id": "_GTTidgVlwlC"
      },
      "outputs": [],
      "source": [
        "%%time\n",
        "result = reloaded.translate(tf.constant(inputs))\n",
        "\n",
        "print(result[0].numpy().decode())\n",
        "print(result[1].numpy().decode())\n",
        "print(result[2].numpy().decode())\n",
        "print()"
      ]
    },
    {
      "cell_type": "code",
      "execution_count": null,
      "metadata": {
        "id": "IZ0W6EjWlz8g"
      },
      "outputs": [],
      "source": [
        "result = reloaded.translate([\"do you come today?\"]) #Har'a ni dhufta?\n",
        "print(result[0].numpy().decode())"
      ]
    }
  ],
  "metadata": {
    "colab": {
      "provenance": []
    },
    "kernelspec": {
      "display_name": "Python 3",
      "name": "python3"
    },
    "language_info": {
      "name": "python"
    }
  },
  "nbformat": 4,
  "nbformat_minor": 0
}